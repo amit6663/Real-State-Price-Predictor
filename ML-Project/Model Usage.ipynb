{
 "cells": [
  {
   "cell_type": "code",
   "execution_count": 8,
   "metadata": {},
   "outputs": [
    {
     "data": {
      "text/plain": [
       "array([20.6])"
      ]
     },
     "execution_count": 8,
     "metadata": {},
     "output_type": "execute_result"
    }
   ],
   "source": [
    "from joblib import load, dump\n",
    "model = load('Amy.joblib')\n",
    "import numpy as np\n",
    "features = np.array([[-0.44240493,  3.18549186, -1.12220182, -0.27288841, -1.42282087,\n",
    "       -0.54646371, -1.3403247 ,  2.56479414, -0.99480054, -0.57506151,\n",
    "       -0.98869255,  0.53852974, -0.49633492]])\n",
    "model.predict(features)"
   ]
  },
  {
   "cell_type": "code",
   "execution_count": 7,
   "metadata": {},
   "outputs": [
    {
     "data": {
      "text/plain": [
       "array([20.6])"
      ]
     },
     "execution_count": 7,
     "metadata": {},
     "output_type": "execute_result"
    }
   ],
   "source": [
    "features = np.array([[-0.44240493,  3.18549186, -1.12220182, -0.27288841, -1.42282087,\n",
    "       -0.54646371, -1.3403247 ,  2.56479414, -0.99480054, -0.57506151,\n",
    "       -0.98869255,  0.53852974, -0.49633492]])\n",
    "model.predict(features)"
   ]
  },
  {
   "cell_type": "code",
   "execution_count": null,
   "metadata": {},
   "outputs": [],
   "source": [
    "mo"
   ]
  }
 ],
 "metadata": {
  "kernelspec": {
   "display_name": "Python 3",
   "language": "python",
   "name": "python3"
  },
  "language_info": {
   "codemirror_mode": {
    "name": "ipython",
    "version": 3
   },
   "file_extension": ".py",
   "mimetype": "text/x-python",
   "name": "python",
   "nbconvert_exporter": "python",
   "pygments_lexer": "ipython3",
   "version": "3.7.3"
  }
 },
 "nbformat": 4,
 "nbformat_minor": 2
}
